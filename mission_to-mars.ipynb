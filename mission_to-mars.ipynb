{
 "cells": [
  {
   "cell_type": "code",
   "execution_count": 8,
   "metadata": {},
   "outputs": [],
   "source": [
    "from splinter import Browser\n",
    "from bs4 import BeautifulSoup as bs\n",
    "import pandas as pd"
   ]
  },
  {
   "cell_type": "code",
   "execution_count": 9,
   "metadata": {},
   "outputs": [],
   "source": [
    "executable_path={\"executable_path\":\"chromedriver\"}\n",
    "browser=Browser(\"chrome\",**executable_path, headless=False)"
   ]
  },
  {
   "cell_type": "code",
   "execution_count": 10,
   "metadata": {},
   "outputs": [],
   "source": [
    "#NASA Mars News\n",
    "newsurl=\"https://mars.nasa.gov/news/?page=0&per_page=40&order=publish_date+desc%2Ccreated_at+desc&search=&category=19%2C165%2C184%2C204&blank_scope=Latest\"\n",
    "browser.visit(newsurl)\n",
    "html=browser.html\n",
    "soup=bs(html,\"html.parser\")\n",
    "news_title=soup.find('div', class_=\"content_title\").get_text()\n",
    "news_p=soup.find('div',class_=\"article_teaser_body\").get_text()"
   ]
  },
  {
   "cell_type": "code",
   "execution_count": 18,
   "metadata": {},
   "outputs": [],
   "source": [
    "#JPL Mars Space Images\n",
    "img_url=\"https://www.jpl.nasa.gov/spaceimages/?search=&category=Mars\"\n",
    "browser.visit(img_url)\n",
    "html=browser.html\n",
    "soup=bs(html,\"html.parser\")\n",
    "img=soup.find_all('a',class_='fancybox')\n",
    "src = []\n",
    "for image in img:\n",
    "    pic = image['data-fancybox-href']\n",
    "    src.append(pic)\n",
    "\n",
    "featured_image_url = 'https://www.jpl.nasa.gov' + src[6]\n"
   ]
  },
  {
   "cell_type": "code",
   "execution_count": 12,
   "metadata": {},
   "outputs": [],
   "source": [
    "#Mars Weather\n",
    "weather_url=\"https://twitter.com/marswxreport?lang=en\"\n",
    "browser.visit(weather_url)\n",
    "html=browser.html\n",
    "soup=bs(html,\"html.parser\")\n",
    "mars_weather=soup.find('p',class_=\"tweet-text\").get_text()"
   ]
  },
  {
   "cell_type": "code",
   "execution_count": 13,
   "metadata": {},
   "outputs": [],
   "source": [
    "#Mars facts\n",
    "facts_ucl=\"https://space-facts.com/mars/\"\n",
    "facts_df=pd.read_html(facts_ucl)[0]\n",
    "facts_table=facts_df.to_html(header=False,index=False)\n"
   ]
  },
  {
   "cell_type": "code",
   "execution_count": 14,
   "metadata": {},
   "outputs": [],
   "source": [
    "#Mars Hemispher\n",
    "hemispher_url=\"https://astrogeology.usgs.gov/search/results?q=hemisphere+enhanced&k1=target&v1=Mars\"\n",
    "browser.visit(hemispher_url)\n",
    "html=browser.html\n",
    "soup=bs(html,'html.parser')\n",
    "hemisphere_image_urls=[]\n",
    "for i in range(4):\n",
    "    image=browser.find_by_tag('h3')\n",
    "    image[i].click()\n",
    "    html=browser.html\n",
    "    soup=bs(html, 'html.parser')\n",
    "    img_url=soup.find('img',class_=\"wide-image\")[\"src\"]\n",
    "    title=soup.find('h2',class_=\"title\").text\n",
    "    dictionary={\"title\":title, \"img_url\":img_url}\n",
    "    hemisphere_image_urls.append(dictionary)\n",
    "    browser.back()\n",
    "    \n"
   ]
  },
  {
   "cell_type": "code",
   "execution_count": 26,
   "metadata": {},
   "outputs": [],
   "source": [
    "featured_image_url = 'https://www.jpl.nasa.gov' + src[3]"
   ]
  },
  {
   "cell_type": "code",
   "execution_count": 27,
   "metadata": {},
   "outputs": [
    {
     "data": {
      "text/plain": [
       "'https://www.jpl.nasa.gov/spaceimages/images/largesize/PIA23515_hires.jpg'"
      ]
     },
     "execution_count": 27,
     "metadata": {},
     "output_type": "execute_result"
    }
   ],
   "source": [
    "featured_image_url"
   ]
  },
  {
   "cell_type": "code",
   "execution_count": 31,
   "metadata": {},
   "outputs": [
    {
     "data": {
      "text/plain": [
       "'Cerberus Hemisphere Enhanced'"
      ]
     },
     "execution_count": 31,
     "metadata": {},
     "output_type": "execute_result"
    }
   ],
   "source": [
    "hemisphere_image_urls[0]['title']"
   ]
  },
  {
   "cell_type": "code",
   "execution_count": null,
   "metadata": {},
   "outputs": [],
   "source": []
  }
 ],
 "metadata": {
  "kernelspec": {
   "display_name": "Python 3",
   "language": "python",
   "name": "python3"
  },
  "language_info": {
   "codemirror_mode": {
    "name": "ipython",
    "version": 3
   },
   "file_extension": ".py",
   "mimetype": "text/x-python",
   "name": "python",
   "nbconvert_exporter": "python",
   "pygments_lexer": "ipython3",
   "version": "3.7.3"
  }
 },
 "nbformat": 4,
 "nbformat_minor": 4
}
